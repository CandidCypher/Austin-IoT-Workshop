{
 "cells": [
  {
   "cell_type": "markdown",
   "metadata": {},
   "source": [
    "# Python IoT Road To Code Workshop"
   ]
  },
  {
   "cell_type": "markdown",
   "metadata": {},
   "source": [
    "Welcome to the Austin IoT Road to Code Python Workshop. The goal of these workshops are to provide a basic, brief, but powerful introduction to Python. As many of the Raspberry Pi related workshops use Python for we have developed these \"tutorials\" for members of the Austin IoT Meetup to provide them an introduction to better understand the code we present there."
   ]
  },
  {
   "cell_type": "markdown",
   "metadata": {},
   "source": [
    "## Introducing Jupyter Notebook"
   ]
  },
  {
   "cell_type": "code",
   "execution_count": 1,
   "metadata": {
    "collapsed": false
   },
   "outputs": [
    {
     "data": {
      "text/html": [
       "<img src=\"http://i1.wp.com/jrogel.com/wp-content/uploads/2015/08/Jupyter.jpg\" width=\"600\" height=\"600\"/>"
      ],
      "text/plain": [
       "<IPython.core.display.Image object>"
      ]
     },
     "execution_count": 1,
     "metadata": {},
     "output_type": "execute_result"
    }
   ],
   "source": [
    "from IPython.display import Image\n",
    "from IPython.core.display import HTML\n",
    "Image(url=\"http://i1.wp.com/jrogel.com/wp-content/uploads/2015/08/Jupyter.jpg\", height = 600, width = 600)"
   ]
  },
  {
   "cell_type": "code",
   "execution_count": 2,
   "metadata": {
    "collapsed": false
   },
   "outputs": [
    {
     "data": {
      "image/png": "[encoded data removed]",
      "text/plain": [
       "<matplotlib.figure.Figure at 0x7f901f3a76d8>"
      ]
     },
     "metadata": {},
     "output_type": "display_data"
    }
   ],
   "source": [
    "%matplotlib inline\n",
    "import matplotlib\n",
    "import matplotlib.pyplot as plt\n",
    "import numpy as np\n",
    "\n",
    "x = np.linspace(0, 5, 10)\n",
    "y = x ** 2\n",
    "\n",
    "fig = plt.figure()\n",
    "\n",
    "axes1 = fig.add_axes([0.1, 0.1, 0.8, 0.8]) # main axes\n",
    "axes2 = fig.add_axes([0.2, 0.5, 0.4, 0.3]) # inset axes\n",
    "\n",
    "# main figure\n",
    "axes1.plot(x, y, 'r')\n",
    "axes1.set_xlabel('x')\n",
    "axes1.set_ylabel('y')\n",
    "axes1.set_title('title')\n",
    "\n",
    "# insert\n",
    "axes2.plot(y, x, 'g')\n",
    "axes2.set_xlabel('y')\n",
    "axes2.set_ylabel('x')\n",
    "axes2.set_title('insert title');"
   ]
  },
  {
   "cell_type": "code",
   "execution_count": 4,
   "metadata": {
    "collapsed": false
   },
   "outputs": [],
   "source": [
    "import pandas"
   ]
  },
  {
   "cell_type": "code",
   "execution_count": 5,
   "metadata": {
    "collapsed": false
   },
   "outputs": [],
   "source": [
    "data = pandas.read_csv(\"Data/PRECIP_15_sample_csv.csv\")"
   ]
  },
  {
   "cell_type": "code",
   "execution_count": 6,
   "metadata": {
    "collapsed": false
   },
   "outputs": [
    {
     "data": {
      "text/html": [
       "<div>\n",
       "<table border=\"1\" class=\"dataframe\">\n",
       "  <thead>\n",
       "    <tr style=\"text-align: right;\">\n",
       "      <th></th>\n",
       "      <th>STATION</th>\n",
       "      <th>STATION_NAME</th>\n",
       "      <th>ELEVATION</th>\n",
       "      <th>LATITUDE</th>\n",
       "      <th>LONGITUDE</th>\n",
       "      <th>DATE</th>\n",
       "      <th>QPCP</th>\n",
       "      <th>Measurement Flag</th>\n",
       "      <th>Quality Flag</th>\n",
       "      <th>Units</th>\n",
       "    </tr>\n",
       "  </thead>\n",
       "  <tbody>\n",
       "    <tr>\n",
       "      <th>0</th>\n",
       "      <td>COOP:311564</td>\n",
       "      <td>CATALOOCHEE NC US</td>\n",
       "      <td>798.9</td>\n",
       "      <td>35.61667</td>\n",
       "      <td>-83.1</td>\n",
       "      <td>19840101 00:15</td>\n",
       "      <td>0</td>\n",
       "      <td>g</td>\n",
       "      <td></td>\n",
       "      <td>HI</td>\n",
       "    </tr>\n",
       "    <tr>\n",
       "      <th>1</th>\n",
       "      <td>COOP:311564</td>\n",
       "      <td>CATALOOCHEE NC US</td>\n",
       "      <td>798.9</td>\n",
       "      <td>35.61667</td>\n",
       "      <td>-83.1</td>\n",
       "      <td>19840104 22:45</td>\n",
       "      <td>1</td>\n",
       "      <td></td>\n",
       "      <td></td>\n",
       "      <td>HI</td>\n",
       "    </tr>\n",
       "    <tr>\n",
       "      <th>2</th>\n",
       "      <td>COOP:311564</td>\n",
       "      <td>CATALOOCHEE NC US</td>\n",
       "      <td>798.9</td>\n",
       "      <td>35.61667</td>\n",
       "      <td>-83.1</td>\n",
       "      <td>19840105 00:30</td>\n",
       "      <td>1</td>\n",
       "      <td></td>\n",
       "      <td></td>\n",
       "      <td>HI</td>\n",
       "    </tr>\n",
       "    <tr>\n",
       "      <th>3</th>\n",
       "      <td>COOP:311564</td>\n",
       "      <td>CATALOOCHEE NC US</td>\n",
       "      <td>798.9</td>\n",
       "      <td>35.61667</td>\n",
       "      <td>-83.1</td>\n",
       "      <td>19840105 01:30</td>\n",
       "      <td>1</td>\n",
       "      <td></td>\n",
       "      <td></td>\n",
       "      <td>HI</td>\n",
       "    </tr>\n",
       "    <tr>\n",
       "      <th>4</th>\n",
       "      <td>COOP:311564</td>\n",
       "      <td>CATALOOCHEE NC US</td>\n",
       "      <td>798.9</td>\n",
       "      <td>35.61667</td>\n",
       "      <td>-83.1</td>\n",
       "      <td>19840105 02:15</td>\n",
       "      <td>1</td>\n",
       "      <td></td>\n",
       "      <td></td>\n",
       "      <td>HI</td>\n",
       "    </tr>\n",
       "    <tr>\n",
       "      <th>5</th>\n",
       "      <td>COOP:311564</td>\n",
       "      <td>CATALOOCHEE NC US</td>\n",
       "      <td>798.9</td>\n",
       "      <td>35.61667</td>\n",
       "      <td>-83.1</td>\n",
       "      <td>19840105 03:00</td>\n",
       "      <td>1</td>\n",
       "      <td></td>\n",
       "      <td></td>\n",
       "      <td>HI</td>\n",
       "    </tr>\n",
       "    <tr>\n",
       "      <th>6</th>\n",
       "      <td>COOP:311564</td>\n",
       "      <td>CATALOOCHEE NC US</td>\n",
       "      <td>798.9</td>\n",
       "      <td>35.61667</td>\n",
       "      <td>-83.1</td>\n",
       "      <td>19840105 03:45</td>\n",
       "      <td>1</td>\n",
       "      <td></td>\n",
       "      <td></td>\n",
       "      <td>HI</td>\n",
       "    </tr>\n",
       "    <tr>\n",
       "      <th>7</th>\n",
       "      <td>COOP:311564</td>\n",
       "      <td>CATALOOCHEE NC US</td>\n",
       "      <td>798.9</td>\n",
       "      <td>35.61667</td>\n",
       "      <td>-83.1</td>\n",
       "      <td>19840110 08:00</td>\n",
       "      <td>1</td>\n",
       "      <td></td>\n",
       "      <td></td>\n",
       "      <td>HI</td>\n",
       "    </tr>\n",
       "    <tr>\n",
       "      <th>8</th>\n",
       "      <td>COOP:311564</td>\n",
       "      <td>CATALOOCHEE NC US</td>\n",
       "      <td>798.9</td>\n",
       "      <td>35.61667</td>\n",
       "      <td>-83.1</td>\n",
       "      <td>19840110 08:15</td>\n",
       "      <td>1</td>\n",
       "      <td></td>\n",
       "      <td></td>\n",
       "      <td>HI</td>\n",
       "    </tr>\n",
       "    <tr>\n",
       "      <th>9</th>\n",
       "      <td>COOP:311564</td>\n",
       "      <td>CATALOOCHEE NC US</td>\n",
       "      <td>798.9</td>\n",
       "      <td>35.61667</td>\n",
       "      <td>-83.1</td>\n",
       "      <td>19840110 08:30</td>\n",
       "      <td>1</td>\n",
       "      <td></td>\n",
       "      <td></td>\n",
       "      <td>HI</td>\n",
       "    </tr>\n",
       "    <tr>\n",
       "      <th>10</th>\n",
       "      <td>COOP:311564</td>\n",
       "      <td>CATALOOCHEE NC US</td>\n",
       "      <td>798.9</td>\n",
       "      <td>35.61667</td>\n",
       "      <td>-83.1</td>\n",
       "      <td>19840110 08:45</td>\n",
       "      <td>1</td>\n",
       "      <td></td>\n",
       "      <td></td>\n",
       "      <td>HI</td>\n",
       "    </tr>\n",
       "    <tr>\n",
       "      <th>11</th>\n",
       "      <td>COOP:311564</td>\n",
       "      <td>CATALOOCHEE NC US</td>\n",
       "      <td>798.9</td>\n",
       "      <td>35.61667</td>\n",
       "      <td>-83.1</td>\n",
       "      <td>19840110 09:00</td>\n",
       "      <td>1</td>\n",
       "      <td></td>\n",
       "      <td></td>\n",
       "      <td>HI</td>\n",
       "    </tr>\n",
       "    <tr>\n",
       "      <th>12</th>\n",
       "      <td>COOP:311564</td>\n",
       "      <td>CATALOOCHEE NC US</td>\n",
       "      <td>798.9</td>\n",
       "      <td>35.61667</td>\n",
       "      <td>-83.1</td>\n",
       "      <td>19840110 09:15</td>\n",
       "      <td>1</td>\n",
       "      <td></td>\n",
       "      <td></td>\n",
       "      <td>HI</td>\n",
       "    </tr>\n",
       "    <tr>\n",
       "      <th>13</th>\n",
       "      <td>COOP:311564</td>\n",
       "      <td>CATALOOCHEE NC US</td>\n",
       "      <td>798.9</td>\n",
       "      <td>35.61667</td>\n",
       "      <td>-83.1</td>\n",
       "      <td>19840110 09:30</td>\n",
       "      <td>1</td>\n",
       "      <td></td>\n",
       "      <td></td>\n",
       "      <td>HI</td>\n",
       "    </tr>\n",
       "    <tr>\n",
       "      <th>14</th>\n",
       "      <td>COOP:311564</td>\n",
       "      <td>CATALOOCHEE NC US</td>\n",
       "      <td>798.9</td>\n",
       "      <td>35.61667</td>\n",
       "      <td>-83.1</td>\n",
       "      <td>19840110 09:45</td>\n",
       "      <td>1</td>\n",
       "      <td></td>\n",
       "      <td></td>\n",
       "      <td>HI</td>\n",
       "    </tr>\n",
       "    <tr>\n",
       "      <th>15</th>\n",
       "      <td>COOP:311564</td>\n",
       "      <td>CATALOOCHEE NC US</td>\n",
       "      <td>798.9</td>\n",
       "      <td>35.61667</td>\n",
       "      <td>-83.1</td>\n",
       "      <td>19840110 10:00</td>\n",
       "      <td>1</td>\n",
       "      <td></td>\n",
       "      <td></td>\n",
       "      <td>HI</td>\n",
       "    </tr>\n",
       "    <tr>\n",
       "      <th>16</th>\n",
       "      <td>COOP:311564</td>\n",
       "      <td>CATALOOCHEE NC US</td>\n",
       "      <td>798.9</td>\n",
       "      <td>35.61667</td>\n",
       "      <td>-83.1</td>\n",
       "      <td>19840110 10:15</td>\n",
       "      <td>1</td>\n",
       "      <td></td>\n",
       "      <td></td>\n",
       "      <td>HI</td>\n",
       "    </tr>\n",
       "    <tr>\n",
       "      <th>17</th>\n",
       "      <td>COOP:311564</td>\n",
       "      <td>CATALOOCHEE NC US</td>\n",
       "      <td>798.9</td>\n",
       "      <td>35.61667</td>\n",
       "      <td>-83.1</td>\n",
       "      <td>19840110 10:30</td>\n",
       "      <td>1</td>\n",
       "      <td></td>\n",
       "      <td></td>\n",
       "      <td>HI</td>\n",
       "    </tr>\n",
       "    <tr>\n",
       "      <th>18</th>\n",
       "      <td>COOP:311564</td>\n",
       "      <td>CATALOOCHEE NC US</td>\n",
       "      <td>798.9</td>\n",
       "      <td>35.61667</td>\n",
       "      <td>-83.1</td>\n",
       "      <td>19840110 10:45</td>\n",
       "      <td>1</td>\n",
       "      <td></td>\n",
       "      <td></td>\n",
       "      <td>HI</td>\n",
       "    </tr>\n",
       "    <tr>\n",
       "      <th>19</th>\n",
       "      <td>COOP:311564</td>\n",
       "      <td>CATALOOCHEE NC US</td>\n",
       "      <td>798.9</td>\n",
       "      <td>35.61667</td>\n",
       "      <td>-83.1</td>\n",
       "      <td>19840110 11:00</td>\n",
       "      <td>1</td>\n",
       "      <td></td>\n",
       "      <td></td>\n",
       "      <td>HI</td>\n",
       "    </tr>\n",
       "    <tr>\n",
       "      <th>20</th>\n",
       "      <td>COOP:311564</td>\n",
       "      <td>CATALOOCHEE NC US</td>\n",
       "      <td>798.9</td>\n",
       "      <td>35.61667</td>\n",
       "      <td>-83.1</td>\n",
       "      <td>19840110 11:15</td>\n",
       "      <td>1</td>\n",
       "      <td></td>\n",
       "      <td></td>\n",
       "      <td>HI</td>\n",
       "    </tr>\n",
       "    <tr>\n",
       "      <th>21</th>\n",
       "      <td>COOP:311564</td>\n",
       "      <td>CATALOOCHEE NC US</td>\n",
       "      <td>798.9</td>\n",
       "      <td>35.61667</td>\n",
       "      <td>-83.1</td>\n",
       "      <td>19840110 11:30</td>\n",
       "      <td>1</td>\n",
       "      <td></td>\n",
       "      <td></td>\n",
       "      <td>HI</td>\n",
       "    </tr>\n",
       "    <tr>\n",
       "      <th>22</th>\n",
       "      <td>COOP:311564</td>\n",
       "      <td>CATALOOCHEE NC US</td>\n",
       "      <td>798.9</td>\n",
       "      <td>35.61667</td>\n",
       "      <td>-83.1</td>\n",
       "      <td>19840110 11:45</td>\n",
       "      <td>1</td>\n",
       "      <td></td>\n",
       "      <td></td>\n",
       "      <td>HI</td>\n",
       "    </tr>\n",
       "    <tr>\n",
       "      <th>23</th>\n",
       "      <td>COOP:311564</td>\n",
       "      <td>CATALOOCHEE NC US</td>\n",
       "      <td>798.9</td>\n",
       "      <td>35.61667</td>\n",
       "      <td>-83.1</td>\n",
       "      <td>19840110 12:00</td>\n",
       "      <td>1</td>\n",
       "      <td></td>\n",
       "      <td></td>\n",
       "      <td>HI</td>\n",
       "    </tr>\n",
       "    <tr>\n",
       "      <th>24</th>\n",
       "      <td>COOP:311564</td>\n",
       "      <td>CATALOOCHEE NC US</td>\n",
       "      <td>798.9</td>\n",
       "      <td>35.61667</td>\n",
       "      <td>-83.1</td>\n",
       "      <td>19840110 12:15</td>\n",
       "      <td>1</td>\n",
       "      <td></td>\n",
       "      <td></td>\n",
       "      <td>HI</td>\n",
       "    </tr>\n",
       "    <tr>\n",
       "      <th>25</th>\n",
       "      <td>COOP:311564</td>\n",
       "      <td>CATALOOCHEE NC US</td>\n",
       "      <td>798.9</td>\n",
       "      <td>35.61667</td>\n",
       "      <td>-83.1</td>\n",
       "      <td>19840110 12:30</td>\n",
       "      <td>1</td>\n",
       "      <td></td>\n",
       "      <td></td>\n",
       "      <td>HI</td>\n",
       "    </tr>\n",
       "    <tr>\n",
       "      <th>26</th>\n",
       "      <td>COOP:311564</td>\n",
       "      <td>CATALOOCHEE NC US</td>\n",
       "      <td>798.9</td>\n",
       "      <td>35.61667</td>\n",
       "      <td>-83.1</td>\n",
       "      <td>19840110 12:45</td>\n",
       "      <td>1</td>\n",
       "      <td></td>\n",
       "      <td></td>\n",
       "      <td>HI</td>\n",
       "    </tr>\n",
       "    <tr>\n",
       "      <th>27</th>\n",
       "      <td>COOP:311564</td>\n",
       "      <td>CATALOOCHEE NC US</td>\n",
       "      <td>798.9</td>\n",
       "      <td>35.61667</td>\n",
       "      <td>-83.1</td>\n",
       "      <td>19840110 13:00</td>\n",
       "      <td>1</td>\n",
       "      <td></td>\n",
       "      <td></td>\n",
       "      <td>HI</td>\n",
       "    </tr>\n",
       "    <tr>\n",
       "      <th>28</th>\n",
       "      <td>COOP:311564</td>\n",
       "      <td>CATALOOCHEE NC US</td>\n",
       "      <td>798.9</td>\n",
       "      <td>35.61667</td>\n",
       "      <td>-83.1</td>\n",
       "      <td>19840110 13:15</td>\n",
       "      <td>1</td>\n",
       "      <td></td>\n",
       "      <td></td>\n",
       "      <td>HI</td>\n",
       "    </tr>\n",
       "    <tr>\n",
       "      <th>29</th>\n",
       "      <td>COOP:311564</td>\n",
       "      <td>CATALOOCHEE NC US</td>\n",
       "      <td>798.9</td>\n",
       "      <td>35.61667</td>\n",
       "      <td>-83.1</td>\n",
       "      <td>19840110 13:30</td>\n",
       "      <td>1</td>\n",
       "      <td></td>\n",
       "      <td></td>\n",
       "      <td>HI</td>\n",
       "    </tr>\n",
       "    <tr>\n",
       "      <th>...</th>\n",
       "      <td>...</td>\n",
       "      <td>...</td>\n",
       "      <td>...</td>\n",
       "      <td>...</td>\n",
       "      <td>...</td>\n",
       "      <td>...</td>\n",
       "      <td>...</td>\n",
       "      <td>...</td>\n",
       "      <td>...</td>\n",
       "      <td>...</td>\n",
       "    </tr>\n",
       "    <tr>\n",
       "      <th>128</th>\n",
       "      <td>COOP:311564</td>\n",
       "      <td>CATALOOCHEE NC US</td>\n",
       "      <td>798.9</td>\n",
       "      <td>35.61667</td>\n",
       "      <td>-83.1</td>\n",
       "      <td>19840124 06:45</td>\n",
       "      <td>1</td>\n",
       "      <td></td>\n",
       "      <td></td>\n",
       "      <td>HI</td>\n",
       "    </tr>\n",
       "    <tr>\n",
       "      <th>129</th>\n",
       "      <td>COOP:311564</td>\n",
       "      <td>CATALOOCHEE NC US</td>\n",
       "      <td>798.9</td>\n",
       "      <td>35.61667</td>\n",
       "      <td>-83.1</td>\n",
       "      <td>19840124 07:00</td>\n",
       "      <td>1</td>\n",
       "      <td></td>\n",
       "      <td></td>\n",
       "      <td>HI</td>\n",
       "    </tr>\n",
       "    <tr>\n",
       "      <th>130</th>\n",
       "      <td>COOP:311564</td>\n",
       "      <td>CATALOOCHEE NC US</td>\n",
       "      <td>798.9</td>\n",
       "      <td>35.61667</td>\n",
       "      <td>-83.1</td>\n",
       "      <td>19840124 07:15</td>\n",
       "      <td>1</td>\n",
       "      <td></td>\n",
       "      <td></td>\n",
       "      <td>HI</td>\n",
       "    </tr>\n",
       "    <tr>\n",
       "      <th>131</th>\n",
       "      <td>COOP:311564</td>\n",
       "      <td>CATALOOCHEE NC US</td>\n",
       "      <td>798.9</td>\n",
       "      <td>35.61667</td>\n",
       "      <td>-83.1</td>\n",
       "      <td>19840124 09:00</td>\n",
       "      <td>1</td>\n",
       "      <td></td>\n",
       "      <td></td>\n",
       "      <td>HI</td>\n",
       "    </tr>\n",
       "    <tr>\n",
       "      <th>132</th>\n",
       "      <td>COOP:311564</td>\n",
       "      <td>CATALOOCHEE NC US</td>\n",
       "      <td>798.9</td>\n",
       "      <td>35.61667</td>\n",
       "      <td>-83.1</td>\n",
       "      <td>19840124 10:00</td>\n",
       "      <td>1</td>\n",
       "      <td></td>\n",
       "      <td></td>\n",
       "      <td>HI</td>\n",
       "    </tr>\n",
       "    <tr>\n",
       "      <th>133</th>\n",
       "      <td>COOP:311564</td>\n",
       "      <td>CATALOOCHEE NC US</td>\n",
       "      <td>798.9</td>\n",
       "      <td>35.61667</td>\n",
       "      <td>-83.1</td>\n",
       "      <td>19840124 11:00</td>\n",
       "      <td>1</td>\n",
       "      <td></td>\n",
       "      <td></td>\n",
       "      <td>HI</td>\n",
       "    </tr>\n",
       "    <tr>\n",
       "      <th>134</th>\n",
       "      <td>COOP:311564</td>\n",
       "      <td>CATALOOCHEE NC US</td>\n",
       "      <td>798.9</td>\n",
       "      <td>35.61667</td>\n",
       "      <td>-83.1</td>\n",
       "      <td>19840124 12:00</td>\n",
       "      <td>1</td>\n",
       "      <td></td>\n",
       "      <td></td>\n",
       "      <td>HI</td>\n",
       "    </tr>\n",
       "    <tr>\n",
       "      <th>135</th>\n",
       "      <td>COOP:311564</td>\n",
       "      <td>CATALOOCHEE NC US</td>\n",
       "      <td>798.9</td>\n",
       "      <td>35.61667</td>\n",
       "      <td>-83.1</td>\n",
       "      <td>19840124 13:00</td>\n",
       "      <td>1</td>\n",
       "      <td></td>\n",
       "      <td></td>\n",
       "      <td>HI</td>\n",
       "    </tr>\n",
       "    <tr>\n",
       "      <th>136</th>\n",
       "      <td>COOP:311564</td>\n",
       "      <td>CATALOOCHEE NC US</td>\n",
       "      <td>798.9</td>\n",
       "      <td>35.61667</td>\n",
       "      <td>-83.1</td>\n",
       "      <td>19840124 14:00</td>\n",
       "      <td>1</td>\n",
       "      <td></td>\n",
       "      <td></td>\n",
       "      <td>HI</td>\n",
       "    </tr>\n",
       "    <tr>\n",
       "      <th>137</th>\n",
       "      <td>COOP:311564</td>\n",
       "      <td>CATALOOCHEE NC US</td>\n",
       "      <td>798.9</td>\n",
       "      <td>35.61667</td>\n",
       "      <td>-83.1</td>\n",
       "      <td>19840124 15:00</td>\n",
       "      <td>1</td>\n",
       "      <td></td>\n",
       "      <td></td>\n",
       "      <td>HI</td>\n",
       "    </tr>\n",
       "    <tr>\n",
       "      <th>138</th>\n",
       "      <td>COOP:311564</td>\n",
       "      <td>CATALOOCHEE NC US</td>\n",
       "      <td>798.9</td>\n",
       "      <td>35.61667</td>\n",
       "      <td>-83.1</td>\n",
       "      <td>19840124 16:00</td>\n",
       "      <td>1</td>\n",
       "      <td></td>\n",
       "      <td></td>\n",
       "      <td>HI</td>\n",
       "    </tr>\n",
       "    <tr>\n",
       "      <th>139</th>\n",
       "      <td>COOP:311564</td>\n",
       "      <td>CATALOOCHEE NC US</td>\n",
       "      <td>798.9</td>\n",
       "      <td>35.61667</td>\n",
       "      <td>-83.1</td>\n",
       "      <td>19840124 17:00</td>\n",
       "      <td>1</td>\n",
       "      <td></td>\n",
       "      <td></td>\n",
       "      <td>HI</td>\n",
       "    </tr>\n",
       "    <tr>\n",
       "      <th>140</th>\n",
       "      <td>COOP:311564</td>\n",
       "      <td>CATALOOCHEE NC US</td>\n",
       "      <td>798.9</td>\n",
       "      <td>35.61667</td>\n",
       "      <td>-83.1</td>\n",
       "      <td>19840124 18:00</td>\n",
       "      <td>1</td>\n",
       "      <td></td>\n",
       "      <td></td>\n",
       "      <td>HI</td>\n",
       "    </tr>\n",
       "    <tr>\n",
       "      <th>141</th>\n",
       "      <td>COOP:311564</td>\n",
       "      <td>CATALOOCHEE NC US</td>\n",
       "      <td>798.9</td>\n",
       "      <td>35.61667</td>\n",
       "      <td>-83.1</td>\n",
       "      <td>19840124 19:00</td>\n",
       "      <td>1</td>\n",
       "      <td></td>\n",
       "      <td></td>\n",
       "      <td>HI</td>\n",
       "    </tr>\n",
       "    <tr>\n",
       "      <th>142</th>\n",
       "      <td>COOP:311564</td>\n",
       "      <td>CATALOOCHEE NC US</td>\n",
       "      <td>798.9</td>\n",
       "      <td>35.61667</td>\n",
       "      <td>-83.1</td>\n",
       "      <td>19840124 20:00</td>\n",
       "      <td>1</td>\n",
       "      <td></td>\n",
       "      <td></td>\n",
       "      <td>HI</td>\n",
       "    </tr>\n",
       "    <tr>\n",
       "      <th>143</th>\n",
       "      <td>COOP:311564</td>\n",
       "      <td>CATALOOCHEE NC US</td>\n",
       "      <td>798.9</td>\n",
       "      <td>35.61667</td>\n",
       "      <td>-83.1</td>\n",
       "      <td>19840124 21:00</td>\n",
       "      <td>1</td>\n",
       "      <td></td>\n",
       "      <td></td>\n",
       "      <td>HI</td>\n",
       "    </tr>\n",
       "    <tr>\n",
       "      <th>144</th>\n",
       "      <td>COOP:311564</td>\n",
       "      <td>CATALOOCHEE NC US</td>\n",
       "      <td>798.9</td>\n",
       "      <td>35.61667</td>\n",
       "      <td>-83.1</td>\n",
       "      <td>19840124 22:30</td>\n",
       "      <td>1</td>\n",
       "      <td></td>\n",
       "      <td></td>\n",
       "      <td>HI</td>\n",
       "    </tr>\n",
       "    <tr>\n",
       "      <th>145</th>\n",
       "      <td>COOP:311564</td>\n",
       "      <td>CATALOOCHEE NC US</td>\n",
       "      <td>798.9</td>\n",
       "      <td>35.61667</td>\n",
       "      <td>-83.1</td>\n",
       "      <td>19840125 02:15</td>\n",
       "      <td>1</td>\n",
       "      <td></td>\n",
       "      <td></td>\n",
       "      <td>HI</td>\n",
       "    </tr>\n",
       "    <tr>\n",
       "      <th>146</th>\n",
       "      <td>COOP:311564</td>\n",
       "      <td>CATALOOCHEE NC US</td>\n",
       "      <td>798.9</td>\n",
       "      <td>35.61667</td>\n",
       "      <td>-83.1</td>\n",
       "      <td>19840125 06:00</td>\n",
       "      <td>1</td>\n",
       "      <td></td>\n",
       "      <td></td>\n",
       "      <td>HI</td>\n",
       "    </tr>\n",
       "    <tr>\n",
       "      <th>147</th>\n",
       "      <td>COOP:311564</td>\n",
       "      <td>CATALOOCHEE NC US</td>\n",
       "      <td>798.9</td>\n",
       "      <td>35.61667</td>\n",
       "      <td>-83.1</td>\n",
       "      <td>19840125 08:30</td>\n",
       "      <td>1</td>\n",
       "      <td></td>\n",
       "      <td></td>\n",
       "      <td>HI</td>\n",
       "    </tr>\n",
       "    <tr>\n",
       "      <th>148</th>\n",
       "      <td>COOP:311564</td>\n",
       "      <td>CATALOOCHEE NC US</td>\n",
       "      <td>798.9</td>\n",
       "      <td>35.61667</td>\n",
       "      <td>-83.1</td>\n",
       "      <td>19840130 10:15</td>\n",
       "      <td>1</td>\n",
       "      <td></td>\n",
       "      <td></td>\n",
       "      <td>HI</td>\n",
       "    </tr>\n",
       "    <tr>\n",
       "      <th>149</th>\n",
       "      <td>COOP:311564</td>\n",
       "      <td>CATALOOCHEE NC US</td>\n",
       "      <td>798.9</td>\n",
       "      <td>35.61667</td>\n",
       "      <td>-83.1</td>\n",
       "      <td>19840130 11:30</td>\n",
       "      <td>1</td>\n",
       "      <td></td>\n",
       "      <td></td>\n",
       "      <td>HI</td>\n",
       "    </tr>\n",
       "    <tr>\n",
       "      <th>150</th>\n",
       "      <td>COOP:311564</td>\n",
       "      <td>CATALOOCHEE NC US</td>\n",
       "      <td>798.9</td>\n",
       "      <td>35.61667</td>\n",
       "      <td>-83.1</td>\n",
       "      <td>19840130 12:45</td>\n",
       "      <td>1</td>\n",
       "      <td></td>\n",
       "      <td></td>\n",
       "      <td>HI</td>\n",
       "    </tr>\n",
       "    <tr>\n",
       "      <th>151</th>\n",
       "      <td>COOP:311564</td>\n",
       "      <td>CATALOOCHEE NC US</td>\n",
       "      <td>798.9</td>\n",
       "      <td>35.61667</td>\n",
       "      <td>-83.1</td>\n",
       "      <td>19840130 14:00</td>\n",
       "      <td>1</td>\n",
       "      <td></td>\n",
       "      <td></td>\n",
       "      <td>HI</td>\n",
       "    </tr>\n",
       "    <tr>\n",
       "      <th>152</th>\n",
       "      <td>COOP:311564</td>\n",
       "      <td>CATALOOCHEE NC US</td>\n",
       "      <td>798.9</td>\n",
       "      <td>35.61667</td>\n",
       "      <td>-83.1</td>\n",
       "      <td>19840130 15:15</td>\n",
       "      <td>1</td>\n",
       "      <td></td>\n",
       "      <td></td>\n",
       "      <td>HI</td>\n",
       "    </tr>\n",
       "    <tr>\n",
       "      <th>153</th>\n",
       "      <td>COOP:311564</td>\n",
       "      <td>CATALOOCHEE NC US</td>\n",
       "      <td>798.9</td>\n",
       "      <td>35.61667</td>\n",
       "      <td>-83.1</td>\n",
       "      <td>19840130 16:30</td>\n",
       "      <td>1</td>\n",
       "      <td></td>\n",
       "      <td></td>\n",
       "      <td>HI</td>\n",
       "    </tr>\n",
       "    <tr>\n",
       "      <th>154</th>\n",
       "      <td>COOP:311564</td>\n",
       "      <td>CATALOOCHEE NC US</td>\n",
       "      <td>798.9</td>\n",
       "      <td>35.61667</td>\n",
       "      <td>-83.1</td>\n",
       "      <td>19840130 17:45</td>\n",
       "      <td>1</td>\n",
       "      <td></td>\n",
       "      <td></td>\n",
       "      <td>HI</td>\n",
       "    </tr>\n",
       "    <tr>\n",
       "      <th>155</th>\n",
       "      <td>COOP:311564</td>\n",
       "      <td>CATALOOCHEE NC US</td>\n",
       "      <td>798.9</td>\n",
       "      <td>35.61667</td>\n",
       "      <td>-83.1</td>\n",
       "      <td>19840130 19:00</td>\n",
       "      <td>1</td>\n",
       "      <td></td>\n",
       "      <td></td>\n",
       "      <td>HI</td>\n",
       "    </tr>\n",
       "    <tr>\n",
       "      <th>156</th>\n",
       "      <td>COOP:311564</td>\n",
       "      <td>CATALOOCHEE NC US</td>\n",
       "      <td>798.9</td>\n",
       "      <td>35.61667</td>\n",
       "      <td>-83.1</td>\n",
       "      <td>19840130 22:00</td>\n",
       "      <td>1</td>\n",
       "      <td></td>\n",
       "      <td></td>\n",
       "      <td>HI</td>\n",
       "    </tr>\n",
       "    <tr>\n",
       "      <th>157</th>\n",
       "      <td>COOP:311564</td>\n",
       "      <td>CATALOOCHEE NC US</td>\n",
       "      <td>798.9</td>\n",
       "      <td>35.61667</td>\n",
       "      <td>-83.1</td>\n",
       "      <td>19840131 02:30</td>\n",
       "      <td>1</td>\n",
       "      <td></td>\n",
       "      <td></td>\n",
       "      <td>HI</td>\n",
       "    </tr>\n",
       "  </tbody>\n",
       "</table>\n",
       "<p>158 rows × 10 columns</p>\n",
       "</div>"
      ],
      "text/plain": [
       "         STATION       STATION_NAME  ELEVATION  LATITUDE  LONGITUDE  \\\n",
       "0    COOP:311564  CATALOOCHEE NC US      798.9  35.61667      -83.1   \n",
       "1    COOP:311564  CATALOOCHEE NC US      798.9  35.61667      -83.1   \n",
       "2    COOP:311564  CATALOOCHEE NC US      798.9  35.61667      -83.1   \n",
       "3    COOP:311564  CATALOOCHEE NC US      798.9  35.61667      -83.1   \n",
       "4    COOP:311564  CATALOOCHEE NC US      798.9  35.61667      -83.1   \n",
       "5    COOP:311564  CATALOOCHEE NC US      798.9  35.61667      -83.1   \n",
       "6    COOP:311564  CATALOOCHEE NC US      798.9  35.61667      -83.1   \n",
       "7    COOP:311564  CATALOOCHEE NC US      798.9  35.61667      -83.1   \n",
       "8    COOP:311564  CATALOOCHEE NC US      798.9  35.61667      -83.1   \n",
       "9    COOP:311564  CATALOOCHEE NC US      798.9  35.61667      -83.1   \n",
       "10   COOP:311564  CATALOOCHEE NC US      798.9  35.61667      -83.1   \n",
       "11   COOP:311564  CATALOOCHEE NC US      798.9  35.61667      -83.1   \n",
       "12   COOP:311564  CATALOOCHEE NC US      798.9  35.61667      -83.1   \n",
       "13   COOP:311564  CATALOOCHEE NC US      798.9  35.61667      -83.1   \n",
       "14   COOP:311564  CATALOOCHEE NC US      798.9  35.61667      -83.1   \n",
       "15   COOP:311564  CATALOOCHEE NC US      798.9  35.61667      -83.1   \n",
       "16   COOP:311564  CATALOOCHEE NC US      798.9  35.61667      -83.1   \n",
       "17   COOP:311564  CATALOOCHEE NC US      798.9  35.61667      -83.1   \n",
       "18   COOP:311564  CATALOOCHEE NC US      798.9  35.61667      -83.1   \n",
       "19   COOP:311564  CATALOOCHEE NC US      798.9  35.61667      -83.1   \n",
       "20   COOP:311564  CATALOOCHEE NC US      798.9  35.61667      -83.1   \n",
       "21   COOP:311564  CATALOOCHEE NC US      798.9  35.61667      -83.1   \n",
       "22   COOP:311564  CATALOOCHEE NC US      798.9  35.61667      -83.1   \n",
       "23   COOP:311564  CATALOOCHEE NC US      798.9  35.61667      -83.1   \n",
       "24   COOP:311564  CATALOOCHEE NC US      798.9  35.61667      -83.1   \n",
       "25   COOP:311564  CATALOOCHEE NC US      798.9  35.61667      -83.1   \n",
       "26   COOP:311564  CATALOOCHEE NC US      798.9  35.61667      -83.1   \n",
       "27   COOP:311564  CATALOOCHEE NC US      798.9  35.61667      -83.1   \n",
       "28   COOP:311564  CATALOOCHEE NC US      798.9  35.61667      -83.1   \n",
       "29   COOP:311564  CATALOOCHEE NC US      798.9  35.61667      -83.1   \n",
       "..           ...                ...        ...       ...        ...   \n",
       "128  COOP:311564  CATALOOCHEE NC US      798.9  35.61667      -83.1   \n",
       "129  COOP:311564  CATALOOCHEE NC US      798.9  35.61667      -83.1   \n",
       "130  COOP:311564  CATALOOCHEE NC US      798.9  35.61667      -83.1   \n",
       "131  COOP:311564  CATALOOCHEE NC US      798.9  35.61667      -83.1   \n",
       "132  COOP:311564  CATALOOCHEE NC US      798.9  35.61667      -83.1   \n",
       "133  COOP:311564  CATALOOCHEE NC US      798.9  35.61667      -83.1   \n",
       "134  COOP:311564  CATALOOCHEE NC US      798.9  35.61667      -83.1   \n",
       "135  COOP:311564  CATALOOCHEE NC US      798.9  35.61667      -83.1   \n",
       "136  COOP:311564  CATALOOCHEE NC US      798.9  35.61667      -83.1   \n",
       "137  COOP:311564  CATALOOCHEE NC US      798.9  35.61667      -83.1   \n",
       "138  COOP:311564  CATALOOCHEE NC US      798.9  35.61667      -83.1   \n",
       "139  COOP:311564  CATALOOCHEE NC US      798.9  35.61667      -83.1   \n",
       "140  COOP:311564  CATALOOCHEE NC US      798.9  35.61667      -83.1   \n",
       "141  COOP:311564  CATALOOCHEE NC US      798.9  35.61667      -83.1   \n",
       "142  COOP:311564  CATALOOCHEE NC US      798.9  35.61667      -83.1   \n",
       "143  COOP:311564  CATALOOCHEE NC US      798.9  35.61667      -83.1   \n",
       "144  COOP:311564  CATALOOCHEE NC US      798.9  35.61667      -83.1   \n",
       "145  COOP:311564  CATALOOCHEE NC US      798.9  35.61667      -83.1   \n",
       "146  COOP:311564  CATALOOCHEE NC US      798.9  35.61667      -83.1   \n",
       "147  COOP:311564  CATALOOCHEE NC US      798.9  35.61667      -83.1   \n",
       "148  COOP:311564  CATALOOCHEE NC US      798.9  35.61667      -83.1   \n",
       "149  COOP:311564  CATALOOCHEE NC US      798.9  35.61667      -83.1   \n",
       "150  COOP:311564  CATALOOCHEE NC US      798.9  35.61667      -83.1   \n",
       "151  COOP:311564  CATALOOCHEE NC US      798.9  35.61667      -83.1   \n",
       "152  COOP:311564  CATALOOCHEE NC US      798.9  35.61667      -83.1   \n",
       "153  COOP:311564  CATALOOCHEE NC US      798.9  35.61667      -83.1   \n",
       "154  COOP:311564  CATALOOCHEE NC US      798.9  35.61667      -83.1   \n",
       "155  COOP:311564  CATALOOCHEE NC US      798.9  35.61667      -83.1   \n",
       "156  COOP:311564  CATALOOCHEE NC US      798.9  35.61667      -83.1   \n",
       "157  COOP:311564  CATALOOCHEE NC US      798.9  35.61667      -83.1   \n",
       "\n",
       "               DATE  QPCP Measurement Flag Quality Flag Units  \n",
       "0    19840101 00:15     0                g                 HI  \n",
       "1    19840104 22:45     1                                  HI  \n",
       "2    19840105 00:30     1                                  HI  \n",
       "3    19840105 01:30     1                                  HI  \n",
       "4    19840105 02:15     1                                  HI  \n",
       "5    19840105 03:00     1                                  HI  \n",
       "6    19840105 03:45     1                                  HI  \n",
       "7    19840110 08:00     1                                  HI  \n",
       "8    19840110 08:15     1                                  HI  \n",
       "9    19840110 08:30     1                                  HI  \n",
       "10   19840110 08:45     1                                  HI  \n",
       "11   19840110 09:00     1                                  HI  \n",
       "12   19840110 09:15     1                                  HI  \n",
       "13   19840110 09:30     1                                  HI  \n",
       "14   19840110 09:45     1                                  HI  \n",
       "15   19840110 10:00     1                                  HI  \n",
       "16   19840110 10:15     1                                  HI  \n",
       "17   19840110 10:30     1                                  HI  \n",
       "18   19840110 10:45     1                                  HI  \n",
       "19   19840110 11:00     1                                  HI  \n",
       "20   19840110 11:15     1                                  HI  \n",
       "21   19840110 11:30     1                                  HI  \n",
       "22   19840110 11:45     1                                  HI  \n",
       "23   19840110 12:00     1                                  HI  \n",
       "24   19840110 12:15     1                                  HI  \n",
       "25   19840110 12:30     1                                  HI  \n",
       "26   19840110 12:45     1                                  HI  \n",
       "27   19840110 13:00     1                                  HI  \n",
       "28   19840110 13:15     1                                  HI  \n",
       "29   19840110 13:30     1                                  HI  \n",
       "..              ...   ...              ...          ...   ...  \n",
       "128  19840124 06:45     1                                  HI  \n",
       "129  19840124 07:00     1                                  HI  \n",
       "130  19840124 07:15     1                                  HI  \n",
       "131  19840124 09:00     1                                  HI  \n",
       "132  19840124 10:00     1                                  HI  \n",
       "133  19840124 11:00     1                                  HI  \n",
       "134  19840124 12:00     1                                  HI  \n",
       "135  19840124 13:00     1                                  HI  \n",
       "136  19840124 14:00     1                                  HI  \n",
       "137  19840124 15:00     1                                  HI  \n",
       "138  19840124 16:00     1                                  HI  \n",
       "139  19840124 17:00     1                                  HI  \n",
       "140  19840124 18:00     1                                  HI  \n",
       "141  19840124 19:00     1                                  HI  \n",
       "142  19840124 20:00     1                                  HI  \n",
       "143  19840124 21:00     1                                  HI  \n",
       "144  19840124 22:30     1                                  HI  \n",
       "145  19840125 02:15     1                                  HI  \n",
       "146  19840125 06:00     1                                  HI  \n",
       "147  19840125 08:30     1                                  HI  \n",
       "148  19840130 10:15     1                                  HI  \n",
       "149  19840130 11:30     1                                  HI  \n",
       "150  19840130 12:45     1                                  HI  \n",
       "151  19840130 14:00     1                                  HI  \n",
       "152  19840130 15:15     1                                  HI  \n",
       "153  19840130 16:30     1                                  HI  \n",
       "154  19840130 17:45     1                                  HI  \n",
       "155  19840130 19:00     1                                  HI  \n",
       "156  19840130 22:00     1                                  HI  \n",
       "157  19840131 02:30     1                                  HI  \n",
       "\n",
       "[158 rows x 10 columns]"
      ]
     },
     "execution_count": 6,
     "metadata": {},
     "output_type": "execute_result"
    }
   ],
   "source": [
    "data"
   ]
  },
  {
   "cell_type": "code",
   "execution_count": 7,
   "metadata": {
    "collapsed": false,
    "scrolled": true
   },
   "outputs": [
    {
     "data": {
      "text/plain": [
       "0      19840101 00:15\n",
       "1      19840104 22:45\n",
       "2      19840105 00:30\n",
       "3      19840105 01:30\n",
       "4      19840105 02:15\n",
       "5      19840105 03:00\n",
       "6      19840105 03:45\n",
       "7      19840110 08:00\n",
       "8      19840110 08:15\n",
       "9      19840110 08:30\n",
       "10     19840110 08:45\n",
       "11     19840110 09:00\n",
       "12     19840110 09:15\n",
       "13     19840110 09:30\n",
       "14     19840110 09:45\n",
       "15     19840110 10:00\n",
       "16     19840110 10:15\n",
       "17     19840110 10:30\n",
       "18     19840110 10:45\n",
       "19     19840110 11:00\n",
       "20     19840110 11:15\n",
       "21     19840110 11:30\n",
       "22     19840110 11:45\n",
       "23     19840110 12:00\n",
       "24     19840110 12:15\n",
       "25     19840110 12:30\n",
       "26     19840110 12:45\n",
       "27     19840110 13:00\n",
       "28     19840110 13:15\n",
       "29     19840110 13:30\n",
       "            ...      \n",
       "128    19840124 06:45\n",
       "129    19840124 07:00\n",
       "130    19840124 07:15\n",
       "131    19840124 09:00\n",
       "132    19840124 10:00\n",
       "133    19840124 11:00\n",
       "134    19840124 12:00\n",
       "135    19840124 13:00\n",
       "136    19840124 14:00\n",
       "137    19840124 15:00\n",
       "138    19840124 16:00\n",
       "139    19840124 17:00\n",
       "140    19840124 18:00\n",
       "141    19840124 19:00\n",
       "142    19840124 20:00\n",
       "143    19840124 21:00\n",
       "144    19840124 22:30\n",
       "145    19840125 02:15\n",
       "146    19840125 06:00\n",
       "147    19840125 08:30\n",
       "148    19840130 10:15\n",
       "149    19840130 11:30\n",
       "150    19840130 12:45\n",
       "151    19840130 14:00\n",
       "152    19840130 15:15\n",
       "153    19840130 16:30\n",
       "154    19840130 17:45\n",
       "155    19840130 19:00\n",
       "156    19840130 22:00\n",
       "157    19840131 02:30\n",
       "Name: DATE, dtype: object"
      ]
     },
     "execution_count": 7,
     "metadata": {},
     "output_type": "execute_result"
    }
   ],
   "source": [
    "data.DATE"
   ]
  },
  {
   "cell_type": "markdown",
   "metadata": {},
   "source": [
    "# Python 101"
   ]
  },
  {
   "cell_type": "markdown",
   "metadata": {},
   "source": [
    "Here we will cover the basic python object types. "
   ]
  },
  {
   "cell_type": "markdown",
   "metadata": {},
   "source": [
    "## Python Integers:\n",
    "\n",
    "One of the best parts of Python is what is called automatic type casting. Python typically figures out what data type you are working with."
   ]
  },
  {
   "cell_type": "code",
   "execution_count": 8,
   "metadata": {
    "collapsed": false
   },
   "outputs": [
    {
     "data": {
      "text/plain": [
       "3"
      ]
     },
     "execution_count": 8,
     "metadata": {},
     "output_type": "execute_result"
    }
   ],
   "source": [
    "1+2"
   ]
  },
  {
   "cell_type": "code",
   "execution_count": 9,
   "metadata": {
    "collapsed": false
   },
   "outputs": [],
   "source": [
    "x = 5/2"
   ]
  },
  {
   "cell_type": "code",
   "execution_count": 10,
   "metadata": {
    "collapsed": false,
    "scrolled": true
   },
   "outputs": [
    {
     "data": {
      "text/plain": [
       "2.5"
      ]
     },
     "execution_count": 10,
     "metadata": {},
     "output_type": "execute_result"
    }
   ],
   "source": [
    "x"
   ]
  },
  {
   "cell_type": "code",
   "execution_count": 11,
   "metadata": {
    "collapsed": false
   },
   "outputs": [
    {
     "data": {
      "text/plain": [
       "float"
      ]
     },
     "execution_count": 11,
     "metadata": {},
     "output_type": "execute_result"
    }
   ],
   "source": [
    "type(x)"
   ]
  },
  {
   "cell_type": "markdown",
   "metadata": {},
   "source": [
    "This only works in Python3. Python2 by default will maintain the numeric type. To bypass this you will want to use the following:"
   ]
  },
  {
   "cell_type": "raw",
   "metadata": {},
   "source": [
    "from __future__ import division"
   ]
  },
  {
   "cell_type": "markdown",
   "metadata": {},
   "source": [
    "### Here are some commonly used mathematical operators\n"
   ]
  },
  {
   "cell_type": "code",
   "execution_count": 12,
   "metadata": {
    "collapsed": false
   },
   "outputs": [
    {
     "data": {
      "text/html": [
       "<img src=\"http://introcs.cs.princeton.edu/python/33design/images/SpecialMethodsArithmetic.png\"/>"
      ],
      "text/plain": [
       "<IPython.core.display.Image object>"
      ]
     },
     "execution_count": 12,
     "metadata": {},
     "output_type": "execute_result"
    }
   ],
   "source": [
    "Image(url = \"http://introcs.cs.princeton.edu/python/33design/images/SpecialMethodsArithmetic.png\")"
   ]
  },
  {
   "cell_type": "code",
   "execution_count": 18,
   "metadata": {
    "collapsed": false
   },
   "outputs": [],
   "source": [
    "my_name = \"Superman\""
   ]
  },
  {
   "cell_type": "code",
   "execution_count": 17,
   "metadata": {
    "collapsed": false
   },
   "outputs": [
    {
     "name": "stdout",
     "output_type": "stream",
     "text": [
      "Cameron\n"
     ]
    }
   ],
   "source": [
    "print(my_name)"
   ]
  },
  {
   "cell_type": "code",
   "execution_count": 19,
   "metadata": {
    "collapsed": false
   },
   "outputs": [
    {
     "data": {
      "text/plain": [
       "'Superman'"
      ]
     },
     "execution_count": 19,
     "metadata": {},
     "output_type": "execute_result"
    }
   ],
   "source": [
    "my_name"
   ]
  },
  {
   "cell_type": "code",
   "execution_count": 13,
   "metadata": {
    "collapsed": false
   },
   "outputs": [
    {
     "data": {
      "text/plain": [
       "1"
      ]
     },
     "execution_count": 13,
     "metadata": {},
     "output_type": "execute_result"
    }
   ],
   "source": [
    "\n",
    "for x in range(100000000000):\n",
    "    "
   ]
  },
  {
   "cell_type": "code",
   "execution_count": 14,
   "metadata": {
    "collapsed": false
   },
   "outputs": [
    {
     "data": {
      "text/plain": [
       "8"
      ]
     },
     "execution_count": 14,
     "metadata": {},
     "output_type": "execute_result"
    }
   ],
   "source": [
    "2**3"
   ]
  },
  {
   "cell_type": "markdown",
   "metadata": {},
   "source": [
    "## Python Strings"
   ]
  },
  {
   "cell_type": "code",
   "execution_count": 1,
   "metadata": {
    "collapsed": true
   },
   "outputs": [],
   "source": [
    "My_string = \"This is a string\""
   ]
  },
  {
   "cell_type": "code",
   "execution_count": 2,
   "metadata": {
    "collapsed": true
   },
   "outputs": [],
   "source": [
    "character = 'a'"
   ]
  },
  {
   "cell_type": "code",
   "execution_count": 6,
   "metadata": {
    "collapsed": true
   },
   "outputs": [],
   "source": [
    "quote = \"Here is 'this thing you were looking for\""
   ]
  },
  {
   "cell_type": "code",
   "execution_count": 4,
   "metadata": {
    "collapsed": false
   },
   "outputs": [
    {
     "data": {
      "text/plain": [
       "str"
      ]
     },
     "execution_count": 4,
     "metadata": {},
     "output_type": "execute_result"
    }
   ],
   "source": [
    "type(character)"
   ]
  },
  {
   "cell_type": "code",
   "execution_count": 3,
   "metadata": {
    "collapsed": false
   },
   "outputs": [
    {
     "data": {
      "text/plain": [
       "str"
      ]
     },
     "execution_count": 3,
     "metadata": {},
     "output_type": "execute_result"
    }
   ],
   "source": [
    "type(My_string)"
   ]
  },
  {
   "cell_type": "markdown",
   "metadata": {},
   "source": [
    "In Python, similar to other languages, strings are treated just like lists. Meaning, they can be indexed, sliced, and ittereated over."
   ]
  },
  {
   "cell_type": "code",
   "execution_count": 14,
   "metadata": {
    "collapsed": false
   },
   "outputs": [
    {
     "ename": "IndexError",
     "evalue": "string index out of range",
     "output_type": "error",
     "traceback": [
      "\u001b[1;31m---------------------------------------------------------------------------\u001b[0m",
      "\u001b[1;31mIndexError\u001b[0m                                Traceback (most recent call last)",
      "\u001b[1;32m<ipython-input-14-0ea323c122ff>\u001b[0m in \u001b[0;36m<module>\u001b[1;34m()\u001b[0m\n\u001b[1;32m----> 1\u001b[1;33m \u001b[0mMy_string\u001b[0m\u001b[1;33m[\u001b[0m\u001b[1;36m100\u001b[0m\u001b[1;33m]\u001b[0m\u001b[1;33m\u001b[0m\u001b[0m\n\u001b[0m",
      "\u001b[1;31mIndexError\u001b[0m: string index out of range"
     ]
    }
   ],
   "source": [
    "My_string[100]"
   ]
  },
  {
   "cell_type": "code",
   "execution_count": 8,
   "metadata": {
    "collapsed": false
   },
   "outputs": [
    {
     "name": "stdout",
     "output_type": "stream",
     "text": [
      "T\n",
      "h\n",
      "i\n",
      "s\n",
      " \n",
      "i\n",
      "s\n",
      " \n",
      "a\n",
      " \n",
      "s\n",
      "t\n",
      "r\n",
      "i\n",
      "n\n",
      "g\n"
     ]
    }
   ],
   "source": [
    "for letter in My_string:\n",
    "    print(letter)"
   ]
  },
  {
   "cell_type": "code",
   "execution_count": 15,
   "metadata": {
    "collapsed": false
   },
   "outputs": [
    {
     "data": {
      "text/plain": [
       "['This', 'is', 'a', 'string']"
      ]
     },
     "execution_count": 15,
     "metadata": {},
     "output_type": "execute_result"
    }
   ],
   "source": [
    "My_string.split()"
   ]
  },
  {
   "cell_type": "code",
   "execution_count": 16,
   "metadata": {
    "collapsed": false
   },
   "outputs": [
    {
     "name": "stdout",
     "output_type": "stream",
     "text": [
      "This\n",
      "is\n",
      "a\n",
      "string\n"
     ]
    }
   ],
   "source": [
    "for word in My_string.split():\n",
    "    print(word)"
   ]
  },
  {
   "cell_type": "markdown",
   "metadata": {},
   "source": [
    "## Python Lists"
   ]
  },
  {
   "cell_type": "code",
   "execution_count": 17,
   "metadata": {
    "collapsed": true
   },
   "outputs": [],
   "source": [
    "my_list = [1,[2,\"Apple\", \"Google\"], True ,4.5, \"BangGood\"]"
   ]
  },
  {
   "cell_type": "markdown",
   "metadata": {},
   "source": [
    "List comprehension"
   ]
  },
  {
   "cell_type": "code",
   "execution_count": 18,
   "metadata": {
    "collapsed": false
   },
   "outputs": [
    {
     "data": {
      "text/plain": [
       "list"
      ]
     },
     "execution_count": 18,
     "metadata": {},
     "output_type": "execute_result"
    }
   ],
   "source": [
    "type(my_list)"
   ]
  },
  {
   "cell_type": "code",
   "execution_count": 20,
   "metadata": {
    "collapsed": false
   },
   "outputs": [],
   "source": [
    "import random\n",
    "a_list = [random.randint(0,100) for x in range(0,10)]"
   ]
  },
  {
   "cell_type": "code",
   "execution_count": 21,
   "metadata": {
    "collapsed": false
   },
   "outputs": [
    {
     "data": {
      "text/plain": [
       "[67, 25, 39, 2, 97, 33, 3, 26, 32, 23]"
      ]
     },
     "execution_count": 21,
     "metadata": {},
     "output_type": "execute_result"
    }
   ],
   "source": [
    "a_list"
   ]
  },
  {
   "cell_type": "code",
   "execution_count": 22,
   "metadata": {
    "collapsed": false
   },
   "outputs": [],
   "source": [
    "a_list.append(10)"
   ]
  },
  {
   "cell_type": "code",
   "execution_count": 23,
   "metadata": {
    "collapsed": false
   },
   "outputs": [
    {
     "data": {
      "text/plain": [
       "[67, 25, 39, 2, 97, 33, 3, 26, 32, 23, 10]"
      ]
     },
     "execution_count": 23,
     "metadata": {},
     "output_type": "execute_result"
    }
   ],
   "source": [
    "a_list"
   ]
  },
  {
   "cell_type": "code",
   "execution_count": 24,
   "metadata": {
    "collapsed": false
   },
   "outputs": [
    {
     "name": "stdout",
     "output_type": "stream",
     "text": [
      "0 67\n",
      "1 25\n",
      "2 39\n",
      "3 2\n",
      "4 97\n",
      "5 33\n",
      "6 3\n",
      "7 26\n",
      "8 32\n",
      "9 23\n",
      "10 10\n"
     ]
    }
   ],
   "source": [
    "for index, num in enumerate(a_list):\n",
    "    print(index, num)"
   ]
  },
  {
   "cell_type": "code",
   "execution_count": 31,
   "metadata": {
    "collapsed": false
   },
   "outputs": [
    {
     "data": {
      "text/plain": [
       "[67, 25, 39, 2, 97, 33, 3, 26, 32, 23, 10]"
      ]
     },
     "execution_count": 31,
     "metadata": {},
     "output_type": "execute_result"
    }
   ],
   "source": [
    "a_list"
   ]
  },
  {
   "cell_type": "code",
   "execution_count": 32,
   "metadata": {
    "collapsed": false
   },
   "outputs": [
    {
     "data": {
      "text/plain": [
       "10"
      ]
     },
     "execution_count": 32,
     "metadata": {},
     "output_type": "execute_result"
    }
   ],
   "source": [
    "value = a_list.pop()\n",
    "value"
   ]
  },
  {
   "cell_type": "code",
   "execution_count": 33,
   "metadata": {
    "collapsed": false
   },
   "outputs": [
    {
     "data": {
      "text/plain": [
       "[67, 25, 39, 2, 97, 33, 3, 26, 32, 23]"
      ]
     },
     "execution_count": 33,
     "metadata": {},
     "output_type": "execute_result"
    }
   ],
   "source": [
    "a_list"
   ]
  },
  {
   "cell_type": "code",
   "execution_count": 35,
   "metadata": {
    "collapsed": false
   },
   "outputs": [
    {
     "data": {
      "text/plain": [
       "[67, 25, 39, 2, 97, 33, 3, 26]"
      ]
     },
     "execution_count": 35,
     "metadata": {},
     "output_type": "execute_result"
    }
   ],
   "source": [
    "a_list.pop()\n",
    "a_list"
   ]
  },
  {
   "cell_type": "code",
   "execution_count": 36,
   "metadata": {
    "collapsed": true
   },
   "outputs": [],
   "source": [
    "b_list = []"
   ]
  },
  {
   "cell_type": "code",
   "execution_count": 37,
   "metadata": {
    "collapsed": false
   },
   "outputs": [
    {
     "ename": "IndexError",
     "evalue": "pop from empty list",
     "output_type": "error",
     "traceback": [
      "\u001b[1;31m---------------------------------------------------------------------------\u001b[0m",
      "\u001b[1;31mIndexError\u001b[0m                                Traceback (most recent call last)",
      "\u001b[1;32m<ipython-input-37-e87d0e61f908>\u001b[0m in \u001b[0;36m<module>\u001b[1;34m()\u001b[0m\n\u001b[1;32m----> 1\u001b[1;33m \u001b[0mval2\u001b[0m \u001b[1;33m=\u001b[0m \u001b[0mb_list\u001b[0m\u001b[1;33m.\u001b[0m\u001b[0mpop\u001b[0m\u001b[1;33m(\u001b[0m\u001b[1;33m)\u001b[0m\u001b[1;33m\u001b[0m\u001b[0m\n\u001b[0m",
      "\u001b[1;31mIndexError\u001b[0m: pop from empty list"
     ]
    }
   ],
   "source": [
    "val2 = b_list.pop()"
   ]
  },
  {
   "cell_type": "code",
   "execution_count": 38,
   "metadata": {
    "collapsed": false
   },
   "outputs": [
    {
     "data": {
      "text/plain": [
       "8"
      ]
     },
     "execution_count": 38,
     "metadata": {},
     "output_type": "execute_result"
    }
   ],
   "source": [
    "len(a_list)"
   ]
  },
  {
   "cell_type": "code",
   "execution_count": 39,
   "metadata": {
    "collapsed": false
   },
   "outputs": [
    {
     "data": {
      "text/plain": [
       "[67, 25, 39, 2, 97, 33, 3, 26]"
      ]
     },
     "execution_count": 39,
     "metadata": {},
     "output_type": "execute_result"
    }
   ],
   "source": [
    "a_list"
   ]
  },
  {
   "cell_type": "markdown",
   "metadata": {},
   "source": [
    "## Python Tuples"
   ]
  },
  {
   "cell_type": "code",
   "execution_count": 53,
   "metadata": {
    "collapsed": false
   },
   "outputs": [],
   "source": [
    "my_tupple = (\"Python\", \"PYTHON\", \"python\")"
   ]
  },
  {
   "cell_type": "code",
   "execution_count": 41,
   "metadata": {
    "collapsed": false
   },
   "outputs": [
    {
     "data": {
      "text/plain": [
       "tuple"
      ]
     },
     "execution_count": 41,
     "metadata": {},
     "output_type": "execute_result"
    }
   ],
   "source": [
    "type(my_tupple)"
   ]
  },
  {
   "cell_type": "code",
   "execution_count": 42,
   "metadata": {
    "collapsed": false
   },
   "outputs": [
    {
     "ename": "AttributeError",
     "evalue": "'tuple' object has no attribute 'append'",
     "output_type": "error",
     "traceback": [
      "\u001b[1;31m---------------------------------------------------------------------------\u001b[0m",
      "\u001b[1;31mAttributeError\u001b[0m                            Traceback (most recent call last)",
      "\u001b[1;32m<ipython-input-42-10ed601acac5>\u001b[0m in \u001b[0;36m<module>\u001b[1;34m()\u001b[0m\n\u001b[1;32m----> 1\u001b[1;33m \u001b[0mmy_tupple\u001b[0m\u001b[1;33m.\u001b[0m\u001b[0mappend\u001b[0m\u001b[1;33m(\u001b[0m\u001b[1;34m\"something\"\u001b[0m\u001b[1;33m)\u001b[0m\u001b[1;33m\u001b[0m\u001b[0m\n\u001b[0m",
      "\u001b[1;31mAttributeError\u001b[0m: 'tuple' object has no attribute 'append'"
     ]
    }
   ],
   "source": [
    "my_tupple.append(\"something\")"
   ]
  },
  {
   "cell_type": "code",
   "execution_count": 57,
   "metadata": {
    "collapsed": false
   },
   "outputs": [
    {
     "ename": "TypeError",
     "evalue": "count() takes exactly one argument (0 given)",
     "output_type": "error",
     "traceback": [
      "\u001b[1;31m---------------------------------------------------------------------------\u001b[0m",
      "\u001b[1;31mTypeError\u001b[0m                                 Traceback (most recent call last)",
      "\u001b[1;32m<ipython-input-57-52c3df329164>\u001b[0m in \u001b[0;36m<module>\u001b[1;34m()\u001b[0m\n\u001b[1;32m----> 1\u001b[1;33m \u001b[0mtype\u001b[0m\u001b[1;33m(\u001b[0m\u001b[0mmy_tupple\u001b[0m\u001b[1;33m.\u001b[0m\u001b[0mcount\u001b[0m\u001b[1;33m(\u001b[0m\u001b[1;33m)\u001b[0m\u001b[1;33m)\u001b[0m\u001b[1;33m\u001b[0m\u001b[0m\n\u001b[0m",
      "\u001b[1;31mTypeError\u001b[0m: count() takes exactly one argument (0 given)"
     ]
    }
   ],
   "source": [
    "type(my_tupple.count())"
   ]
  },
  {
   "cell_type": "code",
   "execution_count": 55,
   "metadata": {
    "collapsed": false
   },
   "outputs": [
    {
     "data": {
      "text/plain": [
       "'python'"
      ]
     },
     "execution_count": 55,
     "metadata": {},
     "output_type": "execute_result"
    }
   ],
   "source": [
    "my_string = \"PYTHON\"\n",
    "my_string.lower()"
   ]
  },
  {
   "cell_type": "code",
   "execution_count": 50,
   "metadata": {
    "collapsed": false
   },
   "outputs": [
    {
     "data": {
      "text/plain": [
       "1"
      ]
     },
     "execution_count": 50,
     "metadata": {},
     "output_type": "execute_result"
    }
   ],
   "source": [
    "my_tupple.index(\"Python\")"
   ]
  },
  {
   "cell_type": "markdown",
   "metadata": {},
   "source": [
    "## Python Dictionaries"
   ]
  },
  {
   "cell_type": "code",
   "execution_count": 62,
   "metadata": {
    "collapsed": true
   },
   "outputs": [],
   "source": [
    "my_dict = {\"One\": [\"Uno\" ,\"un\" ,\"ein\" ,\"ichi\"], \"Key2\": {\"Apple\", \"Banana\", 123}}"
   ]
  },
  {
   "cell_type": "code",
   "execution_count": 60,
   "metadata": {
    "collapsed": false
   },
   "outputs": [
    {
     "data": {
      "text/plain": [
       "dict"
      ]
     },
     "execution_count": 60,
     "metadata": {},
     "output_type": "execute_result"
    }
   ],
   "source": [
    "type(my_dict)"
   ]
  },
  {
   "cell_type": "code",
   "execution_count": 63,
   "metadata": {
    "collapsed": false
   },
   "outputs": [
    {
     "data": {
      "text/plain": [
       "['Uno', 'un', 'ein', 'ichi']"
      ]
     },
     "execution_count": 63,
     "metadata": {},
     "output_type": "execute_result"
    }
   ],
   "source": [
    "my_dict[\"One\"]"
   ]
  },
  {
   "cell_type": "code",
   "execution_count": 64,
   "metadata": {
    "collapsed": false
   },
   "outputs": [
    {
     "ename": "KeyError",
     "evalue": "'Key'",
     "output_type": "error",
     "traceback": [
      "\u001b[1;31m---------------------------------------------------------------------------\u001b[0m",
      "\u001b[1;31mKeyError\u001b[0m                                  Traceback (most recent call last)",
      "\u001b[1;32m<ipython-input-64-108c990c3e64>\u001b[0m in \u001b[0;36m<module>\u001b[1;34m()\u001b[0m\n\u001b[1;32m----> 1\u001b[1;33m \u001b[0mmy_dict\u001b[0m\u001b[1;33m[\u001b[0m\u001b[1;34m\"Key\"\u001b[0m\u001b[1;33m]\u001b[0m\u001b[1;33m\u001b[0m\u001b[0m\n\u001b[0m",
      "\u001b[1;31mKeyError\u001b[0m: 'Key'"
     ]
    }
   ],
   "source": [
    "my_dict[\"Key\"]"
   ]
  },
  {
   "cell_type": "code",
   "execution_count": 67,
   "metadata": {
    "collapsed": false
   },
   "outputs": [],
   "source": [
    "my_dict[\"Two\"] = {\"Spanish\": \"Dos\",\"French\":\"Deux\",\"German\": \"zwie\",\"Japanese\":\"ni\"}"
   ]
  },
  {
   "cell_type": "code",
   "execution_count": 72,
   "metadata": {
    "collapsed": false
   },
   "outputs": [
    {
     "data": {
      "text/plain": [
       "{'French': 'Deux', 'German': 'zwie', 'Japanese': 'ni', 'Spanish': 'Dos'}"
      ]
     },
     "execution_count": 72,
     "metadata": {},
     "output_type": "execute_result"
    }
   ],
   "source": [
    "my_dict[\"Two\"]"
   ]
  },
  {
   "cell_type": "code",
   "execution_count": 69,
   "metadata": {
    "collapsed": false
   },
   "outputs": [
    {
     "data": {
      "text/plain": [
       "dict"
      ]
     },
     "execution_count": 69,
     "metadata": {},
     "output_type": "execute_result"
    }
   ],
   "source": [
    "type(my_dict[\"Two\"])"
   ]
  },
  {
   "cell_type": "code",
   "execution_count": 70,
   "metadata": {
    "collapsed": false
   },
   "outputs": [
    {
     "data": {
      "text/plain": [
       "'Dos'"
      ]
     },
     "execution_count": 70,
     "metadata": {},
     "output_type": "execute_result"
    }
   ],
   "source": [
    "(my_dict[\"Two\"])[\"Spanish\"]"
   ]
  },
  {
   "cell_type": "code",
   "execution_count": 73,
   "metadata": {
    "collapsed": true
   },
   "outputs": [],
   "source": [
    "dataStuff = {\"Key1\": \"value1\", \"Key2\": \"value2\"}"
   ]
  },
  {
   "cell_type": "code",
   "execution_count": 74,
   "metadata": {
    "collapsed": true
   },
   "outputs": [],
   "source": [
    "a_thing = dict()"
   ]
  },
  {
   "cell_type": "code",
   "execution_count": 77,
   "metadata": {
    "collapsed": false
   },
   "outputs": [
    {
     "data": {
      "text/plain": [
       "dict_keys([123])"
      ]
     },
     "execution_count": 77,
     "metadata": {},
     "output_type": "execute_result"
    }
   ],
   "source": [
    "a_thing.keys()"
   ]
  },
  {
   "cell_type": "code",
   "execution_count": 76,
   "metadata": {
    "collapsed": true
   },
   "outputs": [],
   "source": [
    "a_thing[123] = \"My_birthday\""
   ]
  },
  {
   "cell_type": "code",
   "execution_count": 78,
   "metadata": {
    "collapsed": true
   },
   "outputs": [],
   "source": [
    "b_thing = {\"Key1\": \"values\", \"Key1\": \"more values\"}"
   ]
  },
  {
   "cell_type": "code",
   "execution_count": 79,
   "metadata": {
    "collapsed": false
   },
   "outputs": [
    {
     "data": {
      "text/plain": [
       "dict_keys(['Key1'])"
      ]
     },
     "execution_count": 79,
     "metadata": {},
     "output_type": "execute_result"
    }
   ],
   "source": [
    "b_thing.keys()"
   ]
  },
  {
   "cell_type": "code",
   "execution_count": 80,
   "metadata": {
    "collapsed": false
   },
   "outputs": [
    {
     "data": {
      "text/plain": [
       "'more values'"
      ]
     },
     "execution_count": 80,
     "metadata": {},
     "output_type": "execute_result"
    }
   ],
   "source": [
    "b_thing[\"Key1\"]"
   ]
  },
  {
   "cell_type": "markdown",
   "metadata": {},
   "source": [
    "## Python Sets"
   ]
  },
  {
   "cell_type": "code",
   "execution_count": null,
   "metadata": {
    "collapsed": true
   },
   "outputs": [],
   "source": []
  },
  {
   "cell_type": "code",
   "execution_count": null,
   "metadata": {
    "collapsed": true
   },
   "outputs": [],
   "source": []
  },
  {
   "cell_type": "code",
   "execution_count": null,
   "metadata": {
    "collapsed": true
   },
   "outputs": [],
   "source": []
  },
  {
   "cell_type": "code",
   "execution_count": null,
   "metadata": {
    "collapsed": true
   },
   "outputs": [],
   "source": []
  },
  {
   "cell_type": "markdown",
   "metadata": {},
   "source": [
    "## Python Control Loops"
   ]
  },
  {
   "cell_type": "code",
   "execution_count": null,
   "metadata": {
    "collapsed": true
   },
   "outputs": [],
   "source": []
  },
  {
   "cell_type": "code",
   "execution_count": null,
   "metadata": {
    "collapsed": false
   },
   "outputs": [],
   "source": [
    "for x in range(0, 20, 3):\n",
    "    print(x)"
   ]
  },
  {
   "cell_type": "code",
   "execution_count": null,
   "metadata": {
    "collapsed": false
   },
   "outputs": [],
   "source": [
    "x = 0\n",
    "while x < 10:\n",
    "    print(x)\n",
    "    x += 1"
   ]
  },
  {
   "cell_type": "code",
   "execution_count": null,
   "metadata": {
    "collapsed": false
   },
   "outputs": [],
   "source": [
    "x = 100\n",
    "if x <= 99:\n",
    "    print(x, \" is equal to or less than 99\")\n",
    "else:\n",
    "    print(x, \" is greater than 99\")"
   ]
  },
  {
   "cell_type": "code",
   "execution_count": null,
   "metadata": {
    "collapsed": true
   },
   "outputs": [],
   "source": [
    "import random"
   ]
  },
  {
   "cell_type": "code",
   "execution_count": null,
   "metadata": {
    "collapsed": true
   },
   "outputs": [],
   "source": [
    "x = random.randint(0,10)"
   ]
  },
  {
   "cell_type": "code",
   "execution_count": null,
   "metadata": {
    "collapsed": false
   },
   "outputs": [],
   "source": [
    "x"
   ]
  },
  {
   "cell_type": "code",
   "execution_count": null,
   "metadata": {
    "collapsed": true
   },
   "outputs": [],
   "source": []
  }
 ],
 "metadata": {
  "kernelspec": {
   "display_name": "Python 3",
   "language": "python",
   "name": "python3"
  },
  "language_info": {
   "codemirror_mode": {
    "name": "ipython",
    "version": 3
   },
   "file_extension": ".py",
   "mimetype": "text/x-python",
   "name": "python",
   "nbconvert_exporter": "python",
   "pygments_lexer": "ipython3",
   "version": "3.5.1"
  }
 },
 "nbformat": 4,
 "nbformat_minor": 0
}
